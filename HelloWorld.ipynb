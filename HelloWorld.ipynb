{
  "nbformat": 4,
  "nbformat_minor": 0,
  "metadata": {
    "colab": {
      "name": "HelloWorld.ipynb",
      "provenance": [],
      "authorship_tag": "ABX9TyOji4Elc6bqG3Omv8cOSCTN",
      "include_colab_link": true
    },
    "kernelspec": {
      "name": "python3",
      "display_name": "Python 3"
    },
    "language_info": {
      "name": "python"
    }
  },
  "cells": [
    {
      "cell_type": "markdown",
      "metadata": {
        "id": "view-in-github",
        "colab_type": "text"
      },
      "source": [
        "<a href=\"https://colab.research.google.com/github/surendra92/Python--Learning/blob/main/HelloWorld.ipynb\" target=\"_parent\"><img src=\"https://colab.research.google.com/assets/colab-badge.svg\" alt=\"Open In Colab\"/></a>"
      ]
    },
    {
      "cell_type": "code",
      "metadata": {
        "colab": {
          "base_uri": "https://localhost:8080/"
        },
        "id": "j61q2ARbXAfv",
        "outputId": "743f19c7-dc72-4065-fbfd-9ffc4381dfcb"
      },
      "source": [
        "print(\"Hello World\")"
      ],
      "execution_count": null,
      "outputs": [
        {
          "output_type": "stream",
          "text": [
            "Hello World\n"
          ],
          "name": "stdout"
        }
      ]
    },
    {
      "cell_type": "code",
      "metadata": {
        "id": "62aHF1PlXHkX"
      },
      "source": [
        "number1= 5\n",
        "number2=3"
      ],
      "execution_count": null,
      "outputs": []
    },
    {
      "cell_type": "code",
      "metadata": {
        "colab": {
          "base_uri": "https://localhost:8080/"
        },
        "id": "MLRKEjhrXbTj",
        "outputId": "b5680eb3-ef9c-4dbd-e285-b3faa11c6977"
      },
      "source": [
        "print(\"the product of the two numbers is \",number1*number2)"
      ],
      "execution_count": null,
      "outputs": [
        {
          "output_type": "stream",
          "text": [
            "the product of the two numbers is  15\n"
          ],
          "name": "stdout"
        }
      ]
    },
    {
      "cell_type": "code",
      "metadata": {
        "colab": {
          "base_uri": "https://localhost:8080/"
        },
        "id": "NkXv4qimXjAR",
        "outputId": "a201591e-d933-4ed9-e36a-b3efe34e4c21"
      },
      "source": [
        "if (100>20):\n",
        "  print(\"true1\")\n",
        "else:\n",
        "  print(\"falsee1\")"
      ],
      "execution_count": null,
      "outputs": [
        {
          "output_type": "stream",
          "text": [
            "true1\n"
          ],
          "name": "stdout"
        }
      ]
    },
    {
      "cell_type": "code",
      "metadata": {
        "colab": {
          "base_uri": "https://localhost:8080/"
        },
        "id": "rQduofOlZGFd",
        "outputId": "28fb4597-6932-4be1-afc8-a7c52ebd7d0b"
      },
      "source": [
        "x=input(\"Enter a number\")\n",
        "y=input(\"Now enter another number\")\n",
        "if (int(x)>int(y)):\n",
        "  print(\"The first number is larger\")\n",
        "else:\n",
        "  print(\"The second number is larger\")"
      ],
      "execution_count": null,
      "outputs": [
        {
          "output_type": "stream",
          "text": [
            "Enter a number20\n",
            "Now enter another number10\n",
            "The first number is larger\n"
          ],
          "name": "stdout"
        }
      ]
    },
    {
      "cell_type": "code",
      "metadata": {
        "colab": {
          "base_uri": "https://localhost:8080/",
          "height": 164
        },
        "id": "v-cu3WxJaUDp",
        "outputId": "70f4d632-5e1d-4052-d21b-b1183c00c66f"
      },
      "source": [
        "random.randint(a,b)"
      ],
      "execution_count": null,
      "outputs": [
        {
          "output_type": "error",
          "ename": "NameError",
          "evalue": "ignored",
          "traceback": [
            "\u001b[0;31m---------------------------------------------------------------------------\u001b[0m",
            "\u001b[0;31mNameError\u001b[0m                                 Traceback (most recent call last)",
            "\u001b[0;32m<ipython-input-7-fc8b8145c5f3>\u001b[0m in \u001b[0;36m<module>\u001b[0;34m()\u001b[0m\n\u001b[0;32m----> 1\u001b[0;31m \u001b[0mrandom\u001b[0m\u001b[0;34m.\u001b[0m\u001b[0mrandint\u001b[0m\u001b[0;34m(\u001b[0m\u001b[0ma\u001b[0m\u001b[0;34m,\u001b[0m\u001b[0mb\u001b[0m\u001b[0;34m)\u001b[0m\u001b[0;34m\u001b[0m\u001b[0;34m\u001b[0m\u001b[0m\n\u001b[0m",
            "\u001b[0;31mNameError\u001b[0m: name 'random' is not defined"
          ]
        }
      ]
    },
    {
      "cell_type": "code",
      "metadata": {
        "colab": {
          "base_uri": "https://localhost:8080/"
        },
        "id": "arH8-hztaYoN",
        "outputId": "97a4b38c-35bf-46c8-b49f-f3479bb76143"
      },
      "source": [
        "import random\n",
        "print (random.randint(1,7))"
      ],
      "execution_count": null,
      "outputs": [
        {
          "output_type": "stream",
          "text": [
            "5\n"
          ],
          "name": "stdout"
        }
      ]
    },
    {
      "cell_type": "code",
      "metadata": {
        "colab": {
          "base_uri": "https://localhost:8080/"
        },
        "id": "kewU2lEpaeXx",
        "outputId": "270d5859-fe7c-4419-b781-46c1edcc55f2"
      },
      "source": [
        "a=input(\"tell me a number\")\n",
        "b=input(\"tell me another number\")\n",
        "print(\"this is the sum of two numbers:\",int(a)+int(b))"
      ],
      "execution_count": null,
      "outputs": [
        {
          "output_type": "stream",
          "text": [
            "tell me a number5\n",
            "tell me another number6\n",
            "this is the sum of two numbers: 11\n"
          ],
          "name": "stdout"
        }
      ]
    },
    {
      "cell_type": "code",
      "metadata": {
        "id": "X0vlDc2903iR",
        "colab": {
          "base_uri": "https://localhost:8080/"
        },
        "outputId": "1e6b0c00-bbce-4a56-de7f-bd10e49ba961"
      },
      "source": [
        "sum=0\n",
        "number=1\n",
        "sum=sum+number\n",
        "print(sum)"
      ],
      "execution_count": 12,
      "outputs": [
        {
          "output_type": "stream",
          "text": [
            "1\n"
          ],
          "name": "stdout"
        }
      ]
    },
    {
      "cell_type": "code",
      "metadata": {
        "id": "2DEYWN2A1BNm",
        "colab": {
          "base_uri": "https://localhost:8080/"
        },
        "outputId": "4a7ccab8-14cf-4096-9daa-6cebffff3689"
      },
      "source": [
        "sum=0\n",
        "number=1\n",
        "while(number<10000):\n",
        "  sum=sum+number\n",
        "  number=number+1\n",
        "print(sum)"
      ],
      "execution_count": 16,
      "outputs": [
        {
          "output_type": "stream",
          "text": [
            "49995000\n"
          ],
          "name": "stdout"
        }
      ]
    },
    {
      "cell_type": "code",
      "metadata": {
        "colab": {
          "base_uri": "https://localhost:8080/"
        },
        "id": "cyNFlKfx1V5M",
        "outputId": "408354da-2d59-44ce-a5ac-a27b68dca8ab"
      },
      "source": [
        "moods = [ \"happy\" , \"sad\" , \"cool\" , \"relaxed\" , \"angry\" ]\n",
        "for a in moods:\n",
        "  print ( \"I feel \" , a)"
      ],
      "execution_count": 17,
      "outputs": [
        {
          "output_type": "stream",
          "text": [
            "I feel  happy\n",
            "I feel  sad\n",
            "I feel  cool\n",
            "I feel  relaxed\n",
            "I feel  angry\n"
          ],
          "name": "stdout"
        }
      ]
    },
    {
      "cell_type": "code",
      "metadata": {
        "colab": {
          "base_uri": "https://localhost:8080/"
        },
        "id": "hkXgJA9-18ii",
        "outputId": "91a89d0f-4c68-4b8a-c77d-029ab25437fa"
      },
      "source": [
        "for i in range(10): \n",
        "  print (i)"
      ],
      "execution_count": 18,
      "outputs": [
        {
          "output_type": "stream",
          "text": [
            "0\n",
            "1\n",
            "2\n",
            "3\n",
            "4\n",
            "5\n",
            "6\n",
            "7\n",
            "8\n",
            "9\n"
          ],
          "name": "stdout"
        }
      ]
    },
    {
      "cell_type": "code",
      "metadata": {
        "id": "S2Uk13O52L6-"
      },
      "source": [
        "import bs4\n",
        "import requests\n",
        "URL = \" http://www.gutenberg.org/files/236/236-0.txt \"\n",
        "book = requests.get(URL, {}).text"
      ],
      "execution_count": 19,
      "outputs": []
    },
    {
      "cell_type": "code",
      "metadata": {
        "colab": {
          "base_uri": "https://localhost:8080/",
          "height": 103
        },
        "id": "TZL0koRJ4Otu",
        "outputId": "d2d6bbb3-8e84-402a-9bcc-6d641aeb226d"
      },
      "source": [
        "book"
      ],
      "execution_count": 20,
      "outputs": [
        {
          "output_type": "execute_result",
          "data": {
            "application/vnd.google.colaboratory.intrinsic+json": {
              "type": "string"
            },
            "text/plain": [
              "'<!DOCTYPE html>\\n<html class=\"client-nojs\" lang=\"en\" dir=\"ltr\">\\n<head>\\n <meta charset=\"UTF-8\"/>\\n\\n<title>404 | Project Gutenberg</title>\\n <link rel=\"stylesheet\" href=\"/gutenberg/style.css?v=1.1\">\\n <link rel=\"stylesheet\" href=\"/gutenberg/collapsible.css?1.1\">\\n <link rel=\"stylesheet\" href=\"/gutenberg/new_nav.css?v=1.321231\">\\n<link rel=\"stylesheet\" href=\"/gutenberg/pg-desktop-one.css\">\\n <meta name=\"viewport\" content=\"width=device-width, initial-scale=1\">\\n <meta name=\"keywords\" content=\"books, ebooks, free, kindle, android, iphone, ipad\"/>\\n <meta name=\"google-site-verification\" content=\"wucOEvSnj5kP3Ts_36OfP64laakK-1mVTg-ptrGC9io\"/>\\n <meta name=\"alexaVerifyID\" content=\"4WNaCljsE-A82vP_ih2H_UqXZvM\"/>\\n <link rel=\"copyright\" href=\"https://www.gnu.org/copyleft/fdl.html\"/>\\n <link rel=\"shortcut icon\" href=\"/gutenberg/favicon.ico?v=1.1\"/>\\n\\n <meta property=\"og:title\"        content=\"Project Gutenberg\" />\\n <meta property=\"og:type\"         content=\"website\" />\\n <meta property=\"og:url\"          content=\"https://www.gutenberg.org/\" />\\n <meta property=\"og:description\"  content=\"Project Gutenberg is a library of free eBooks.\" />\\n <meta property=\"fb:admins\"       content=\"615269807\" />\\n <meta property=\"fb:app_id\"       content=\"115319388529183\" />\\n <meta property=\"og:site_name\"    content=\"Project Gutenberg\" />\\n <meta property=\"og:image\"        content=\"https://www.gutenberg.org/gutenberg/pg-logo-144x144.png\" />\\n </head>\\n<body>\\n  <div class=\"container\"><!-- start body --><nav>\\n  <!--<div id=\"main_logo\"> -->\\n  <a id=\"main_logo\" href=\"/\" class=\"no-hover\">\\n    <img src=\"/gutenberg/pg-logo-129x80.png\" alt=\"Project Gutenberg\" draggable=\"false\" />\\n  </a>\\n  <!--\\t</div>-->\\n  <div id=\"menu\">\\n    <label for=\"tm\" id=\"toggle-menu\">Menu<span class=\"drop-icon\">&#9662;</span></label>\\n    <input type=\"checkbox\" id=\"tm\" />\\n    <ul class=\"main-menu cf\">\\n      <li>\\n\\t<a href=\"/about/\">About\\n          <span class=\"drop-icon\">&#9662;</span>\\n      \\t</a>\\n        <label title=\"Toggle Drop-down\" class=\"drop-icon\" for=\"sm0\">&#9662;</label>\\n     \\t<input type=\"checkbox\" id=\"sm0\" />\\n     \\t<ul class=\"sub-menu\">\\n\\t  <li><a href=\"/about/\">About Project Gutenberg</a></li>\\n          <li><a href=\"/policy/collection_development.html\">Collection Development</a></li>\\n          <li><a href=\"/about/contact_information.html\">Contact Us</a></li>\\n          <li><a href=\"/about/background/\">History &amp; Philosophy</a></li>\\n          <li><a href=\"/policy/permission.html\">Permissions &amp; License</a></li>\\n          <li><a href=\"/policy/privacy_policy.html\">Privacy Policy</a></li>\\n          <li><a href=\"/policy/terms_of_use.html\">Terms of Use</a></li>\\n\\t</ul>\\n      </li>\\n      <li>\\n\\t<a href=\"/ebooks/\">Search and Browse\\n      \\t  <span class=\"drop-icon\">&#9662;</span>\\n      \\t</a>\\n\\t<label title=\"Toggle Drop-down\" class=\"drop-icon\" for=\"sm8\">&#9662;</label>\\n        <input type=\"checkbox\" id=\"sm8\" />\\n        <ul class=\"sub-menu\">\\n\\t  <li><a href=\"/ebooks/\">Book Search</a></li>\\n\\t  <li><a href=\"/ebooks/bookshelf/\">Bookshelves</a></li>\\n\\t  <li><a href=\"/browse/scores/top\">Frequently Downloaded</a></li>\\n\\t  <li><a href=\"/ebooks/offline_catalogs.html\">Offline Catalogs</a></li>\\n\\t</ul>\\n      </li>\\n      <li>\\n\\t<a href=\"/help/\">Help\\n          <span class=\"drop-icon\">&#9662;</span>\\n   \\t</a>\\n         <label title=\"Toggle Drop-down\" class=\"drop-icon\" for=\"sm3\">&#9662;</label>\\n   \\t<input type=\"checkbox\" id=\"sm3\" />\\n    \\t<ul class=\"sub-menu\">\\n          <li><a href=\"/help/\">All help topics &rarr;</a></li>\\n          <li><a href=\"/help/copyright.html\">Copyright Procedures</a></li>\\n          <li><a href=\"/help/errata.html\">Errata, Fixes and Bug Reports</a></li>\\n          <li><a href=\"/help/file_formats.html\">File Formats</a></li>\\n          <li><a href=\"/help/faq.html\">Frequently Asked Questions</a></li>\\n          <li><a href=\"/policy/\">Policies &rarr;</a></li>\\n          <li><a href=\"/help/public_domain_ebook_submission.html\">Public Domain eBook Submission</a></li>\\n          <li><a href=\"/help/submitting_your_own_work.html\">Submitting Your Own Work</a></li>\\n          <li><a href=\"/help/mobile.html\">Tablets, Phones and eReaders</a></li>\\n          <li><a href=\"/attic/\">The Attic &rarr;</a></li>\\n        </ul>\\n      </li>\\n      <li><a href=\"/donate/\">Donate</a></li>\\n    </ul>\\n  </div>\\n  <div class=\"donate\">\\n  <div class=\"searchbox\">\\n    <form method=\"get\" action=\"/ebooks/search/\" accept-charset=\"utf-8\" enctype=\"multipart/form-data\" class=\"searchbox\">\\n      <input type=\"text\" value=\"\" id=\"menu-book-search\" name=\"query\" class=\"searchInput\" title=\"Quick search\" tabindex=\"20\" size=\"20\" maxlength=\"80\" placeholder=\"  Quick search\" />\\n      <input type=\"submit\" name=\"submit_search\" value=\"Go!\" style=\"vertical-align:middle;\" />\\n    </form>\\n  </div>\\n    <form class=\"donatelink\" action=\"https://www.paypal.com/cgi-bin/webscr\" method=\"post\" target=\"new\">\\n      <p><a href=\"/donate/\">Donation</a></p>\\n      <input type=\"hidden\" name=\"cmd\" value=\"_s-xclick\" />\\n      <input type=\"hidden\" name=\"hosted_button_id\" value=\"XKAL6BZL3YPSN\" />\\n      <input class=\"donbtn\" type=\"image\" src=\"/pics/en_US.gif\" name=\"submit\" alt=\"Donate via PayPal\" />\\n    </form>\\n  </div>\\n</nav>\\n<div class=\"page_content\"><!-- start content -->\\n\\n        <h1 id=\"error-404\">Error 404</h1>\\n\\n<p>Sorry, but our website does not have the page you requested.</p>\\n\\n<p>Maybe you have just a wrong url. Go to <a href=\"/\">www.gutenberg.org</a> to see whether the error persists.</p>\\n\\n<p>If you think something is broken, follow the â\\x80\\x9cContact Informationâ\\x80\\x9d link at the bottom of this page if you would like to report it.</p>\\n\\n\\n   </div><!--content ending-->\\n  </div><!-- body ending -->\\n   <div class=\"footer\"><!-- start footer -->  <ul>\\n      <li>\\n        <a href=\"/policy/privacy_policy.html\" title=\"Privacy Policy\">Privacy policy</a>\\n      </li>\\n      <li>\\n        <a href=\"/about/\" title=\"About Project Gutenberg\">About Project Gutenberg</a>\\n      </li>\\n      <li>\\n        <a href=\"/policy/terms_of_use.html\" title=\"Terms of Use\">Terms of Use</a>\\n      </li>\\n      <li>\\n        <a href=\"/about/contact_information.html\" title=\"Contact Information\">Contact Information</a>\\n      </li>\\n      <li><a href=\"/help/\" title=\"Get Help\">Get Help</a></li>\\n\\n  </ul>\\n\\n  <a href=\"https://www.ibiblio.org/\" title=\"Project Gutenberg is hosted by ibiblio\">\\n   <img src=\"/gutenberg/ibiblio-logo.png\" alt=\"iBiblio\">\\n  </a>\\n</div><!-- footer ending-->\\n\\n </body>\\n</html>\\n'"
            ]
          },
          "metadata": {
            "tags": []
          },
          "execution_count": 20
        }
      ]
    },
    {
      "cell_type": "code",
      "metadata": {
        "id": "kRuzYlSH4QJ1"
      },
      "source": [
        "words=book.split(\" \")"
      ],
      "execution_count": 22,
      "outputs": []
    },
    {
      "cell_type": "code",
      "metadata": {
        "colab": {
          "base_uri": "https://localhost:8080/"
        },
        "id": "H3vb68kd4VUx",
        "outputId": "3cf861e7-8066-490f-c80e-c6b0834acd31"
      },
      "source": [
        "print (len(words))"
      ],
      "execution_count": 23,
      "outputs": [
        {
          "output_type": "stream",
          "text": [
            "917\n"
          ],
          "name": "stdout"
        }
      ]
    },
    {
      "cell_type": "code",
      "metadata": {
        "colab": {
          "base_uri": "https://localhost:8080/"
        },
        "id": "KBMj_-jR4aeT",
        "outputId": "8e5a03f3-15e6-478e-bab8-3f6509bef45e"
      },
      "source": [
        "mydict = { \"water\" : \"a kind of liquid\" , \"dog\" : \"an animal with four legs\" ,\n",
        "\"food\" : \"something you can eat\" }\n",
        "for word in mydict:\n",
        "  print (word, \" \" ,mydict[word])"
      ],
      "execution_count": 24,
      "outputs": [
        {
          "output_type": "stream",
          "text": [
            "water   a kind of liquid\n",
            "dog   an animal with four legs\n",
            "food   something you can eat\n"
          ],
          "name": "stdout"
        }
      ]
    }
  ]
}